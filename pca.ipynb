{
 "cells": [
  {
   "cell_type": "code",
   "execution_count": 1,
   "metadata": {},
   "outputs": [],
   "source": [
    "import pandas as pd\n",
    "import numpy as np\n",
    "import matplotlib.pyplot as plt\n",
    "%matplotlib inline"
   ]
  },
  {
   "attachments": {},
   "cell_type": "markdown",
   "metadata": {},
   "source": [
    "# PCA dla (-3,0),(-2,0),(-2,0),(5,0)"
   ]
  },
  {
   "cell_type": "code",
   "execution_count": 2,
   "metadata": {},
   "outputs": [
    {
     "data": {
      "text/plain": [
       "array([[-3,  0],\n",
       "       [-2,  0],\n",
       "       [-2,  0],\n",
       "       [ 5,  0]])"
      ]
     },
     "execution_count": 2,
     "metadata": {},
     "output_type": "execute_result"
    }
   ],
   "source": [
    "data = np.array([\n",
    "    [-3, 0], \n",
    "    [-2, 0], \n",
    "    [-2, 0], \n",
    "    [5, 0]\n",
    "    ])\n",
    "\n",
    "data"
   ]
  },
  {
   "attachments": {},
   "cell_type": "markdown",
   "metadata": {},
   "source": [
    "1. Wyznaczyć średnią arytmetyczną wymiaru `x` oraz `y`"
   ]
  },
  {
   "cell_type": "code",
   "execution_count": 3,
   "metadata": {},
   "outputs": [
    {
     "data": {
      "text/plain": [
       "(-0.5, 0.0)"
      ]
     },
     "execution_count": 3,
     "metadata": {},
     "output_type": "execute_result"
    }
   ],
   "source": [
    "mean_x = (data[0, 0] + data[1, 0] + data[2, 0]  + data[3, 0]) / 4\n",
    "mean_y = (data[0, 1] + data[1, 1] + data[2, 1]  + data[3, 1]) / 4\n",
    "\n",
    "(mean_x, mean_y)"
   ]
  },
  {
   "attachments": {},
   "cell_type": "markdown",
   "metadata": {},
   "source": [
    "2. Obliczenie macierzy kowariencji"
   ]
  },
  {
   "attachments": {},
   "cell_type": "markdown",
   "metadata": {},
   "source": [
    "` \"The variance-covariance matrix is a square matrix with diagonal elements which represent the variance and the non-diagonal components that express covariance. The covariance of a variable can take any real value- positive, negative, or zero. A positive covariance suggests that the two variables have a positive relationship, whereas a negative covariance indicates that they do not. If two elements do not vary together, they have a zero covariance.\" `  \n",
    "![](cov_matrix_formula.png)"
   ]
  },
  {
   "cell_type": "code",
   "execution_count": 4,
   "metadata": {},
   "outputs": [
    {
     "data": {
      "text/plain": [
       "array([[0., 0.],\n",
       "       [0., 0.]])"
      ]
     },
     "execution_count": 4,
     "metadata": {},
     "output_type": "execute_result"
    }
   ],
   "source": [
    "cov_matrix = np.zeros((2, 2))\n",
    "\n",
    "cov_matrix"
   ]
  },
  {
   "attachments": {},
   "cell_type": "markdown",
   "metadata": {},
   "source": [
    "Wzór na wariancje zbioru:  \n",
    "![](variance_formula.png)  "
   ]
  },
  {
   "attachments": {},
   "cell_type": "markdown",
   "metadata": {},
   "source": [
    "Wzór na korelacje dwóch zbiorów:  \n",
    "![](correlation_formula.png) "
   ]
  },
  {
   "cell_type": "code",
   "execution_count": 5,
   "metadata": {},
   "outputs": [
    {
     "data": {
      "text/plain": [
       "array([[13.66666667,  0.        ],\n",
       "       [ 0.        ,  0.        ]])"
      ]
     },
     "execution_count": 5,
     "metadata": {},
     "output_type": "execute_result"
    }
   ],
   "source": [
    "# wariancja x\n",
    "cov_matrix[0, 0] = (\n",
    "    (data[0, 0] - mean_x)**2 + \n",
    "    (data[1, 0] - mean_x)**2 + \n",
    "    (data[2, 0] - mean_x)**2 + \n",
    "    (data[3, 0] - mean_x)**2 ) / 3\n",
    "\n",
    "# wariancja y\n",
    "cov_matrix[1, 1] = ( \n",
    "    (data[0, 1] - mean_y)**2 + \n",
    "    (data[1, 1] - mean_y)**2 + \n",
    "    (data[2, 1] - mean_y)**2 + \n",
    "    (data[3, 1] - mean_y)**2 ) / 3\n",
    "\n",
    "# korelacja x i y\n",
    "cov_matrix[0, 1] = (\n",
    "    (data[0, 0] - mean_x) * (data[0, 1] - mean_y) +\n",
    "    (data[1, 0] - mean_x) * (data[1, 1] - mean_y) +\n",
    "    (data[2, 0] - mean_x) * (data[2, 1] - mean_y) +\n",
    "    (data[3, 0] - mean_x) * (data[3, 1] - mean_y) ) / 3 \n",
    "\n",
    "cov_matrix[1, 0] = cov_matrix[0, 1]\n",
    "\n",
    "\n",
    "cov_matrix"
   ]
  },
  {
   "attachments": {},
   "cell_type": "markdown",
   "metadata": {},
   "source": [
    "3. Obliczamy wartości własne  \n",
    "![](eigen_formula.png)"
   ]
  },
  {
   "cell_type": "code",
   "execution_count": 6,
   "metadata": {},
   "outputs": [],
   "source": [
    "# 𝜆 = ?  \n",
    "\n",
    "# A_𝜆 = cov_matrix - 𝜆 * np.diag((2, 2)) \n",
    " \n",
    "# A_𝜆 = [[13.66666667,  0.        ],       [𝜆, 0]   [[13.66666667 - 𝜆,   0.        ],  \n",
    "#        [ 0.        ,  0.        ]]   -   [0, 𝜆] =  [ 0.            ,  -𝜆.        ]]  \n",
    "\n",
    "# det(A_𝜆) = (41/3 - 𝜆)(-𝜆) - 0*0 = 𝜆**2 - 41𝜆/3\n",
    "# 𝜆**2 - 41𝜆/3 = 𝜆(𝜆 - 41/3)\n",
    "\n",
    "# 𝜆 = 0 v 𝜆 = 41/3  <- wartosci wlasne\n",
    "\n",
    "# 41/3 jest większe, więc będzie PC1\n",
    "\n",
    "# Dla 𝜆 = 41/3 rozwiązać i znaleźć niezerowy wektror x:\n",
    "# (cov_matrix - λI)x = 0\n",
    "\n",
    "# [[0,     0],  [[x],    [[0],\n",
    "#  [0, -41/3]] * [y]]  =  [0]]\n",
    "\n",
    "# patrzcie jaką Kowalski jest kurwą ludzką, ze dal taki uklad rownan:\n",
    "\n"
   ]
  },
  {
   "attachments": {},
   "cell_type": "markdown",
   "metadata": {},
   "source": [
    "![](jakies_matematyczne_pierdolenie.png)"
   ]
  },
  {
   "cell_type": "code",
   "execution_count": 7,
   "metadata": {},
   "outputs": [],
   "source": [
    "pca_vector = [1, 0]"
   ]
  },
  {
   "attachments": {},
   "cell_type": "markdown",
   "metadata": {},
   "source": [
    "nie ma chuja ze bym po policzyl jakbym dostal takie zadanie nieprzygotowany"
   ]
  },
  {
   "cell_type": "code",
   "execution_count": 8,
   "metadata": {},
   "outputs": [
    {
     "data": {
      "text/plain": [
       "[-2.5, -1.5, -1.5, 5.5]"
      ]
     },
     "execution_count": 8,
     "metadata": {},
     "output_type": "execute_result"
    }
   ],
   "source": [
    "projected_data = [\n",
    "    (data[0,0] - mean_x) * pca_vector[0] + (data[0,1] - mean_y) * pca_vector[1],\n",
    "    (data[1,0] - mean_x) * pca_vector[0] + (data[1,1] - mean_y) * pca_vector[1],\n",
    "    (data[2,0] - mean_x) * pca_vector[0] + (data[2,1] - mean_y) * pca_vector[1],\n",
    "    (data[3,0] - mean_x) * pca_vector[0] + (data[3,1] - mean_y) * pca_vector[1],\n",
    "]\n",
    "\n",
    "projected_data"
   ]
  },
  {
   "attachments": {},
   "cell_type": "markdown",
   "metadata": {},
   "source": [
    "# PCA dla (1,1), (0,0), (-2,-2), (3,3)"
   ]
  },
  {
   "cell_type": "code",
   "execution_count": 9,
   "metadata": {},
   "outputs": [
    {
     "data": {
      "text/plain": [
       "array([[ 1,  1],\n",
       "       [ 0,  0],\n",
       "       [-2, -2],\n",
       "       [ 3,  3]])"
      ]
     },
     "execution_count": 9,
     "metadata": {},
     "output_type": "execute_result"
    }
   ],
   "source": [
    "\n",
    "data = np.array([\n",
    "    [1, 1], \n",
    "    [0, 0], \n",
    "    [-2, -2], \n",
    "    [3, 3]\n",
    "    ])\n",
    "\n",
    "data"
   ]
  },
  {
   "cell_type": "code",
   "execution_count": 10,
   "metadata": {},
   "outputs": [
    {
     "data": {
      "text/plain": [
       "(0.5, 0.5)"
      ]
     },
     "execution_count": 10,
     "metadata": {},
     "output_type": "execute_result"
    }
   ],
   "source": [
    "mean_x = (data[0, 0] + data[1, 0] + data[2, 0]  + data[3, 0]) / 4\n",
    "mean_y = (data[0, 1] + data[1, 1] + data[2, 1]  + data[3, 1]) / 4\n",
    "\n",
    "(mean_x, mean_y)"
   ]
  },
  {
   "cell_type": "code",
   "execution_count": 11,
   "metadata": {},
   "outputs": [
    {
     "data": {
      "text/plain": [
       "array([[0., 0.],\n",
       "       [0., 0.]])"
      ]
     },
     "execution_count": 11,
     "metadata": {},
     "output_type": "execute_result"
    }
   ],
   "source": [
    "cov_matrix = np.zeros((2, 2))\n",
    "\n",
    "cov_matrix"
   ]
  },
  {
   "cell_type": "code",
   "execution_count": 12,
   "metadata": {},
   "outputs": [
    {
     "data": {
      "text/plain": [
       "array([[4.33333333, 4.33333333],\n",
       "       [4.33333333, 4.33333333]])"
      ]
     },
     "execution_count": 12,
     "metadata": {},
     "output_type": "execute_result"
    }
   ],
   "source": [
    "# wariancja x\n",
    "cov_matrix[0, 0] = (\n",
    "    (data[0, 0] - mean_x)**2 + \n",
    "    (data[1, 0] - mean_x)**2 + \n",
    "    (data[2, 0] - mean_x)**2 + \n",
    "    (data[3, 0] - mean_x)**2 ) / 3\n",
    "\n",
    "# wariancja y\n",
    "cov_matrix[1, 1] = ( \n",
    "    (data[0, 1] - mean_y)**2 + \n",
    "    (data[1, 1] - mean_y)**2 + \n",
    "    (data[2, 1] - mean_y)**2 + \n",
    "    (data[3, 1] - mean_y)**2 ) / 3\n",
    "\n",
    "# korelacja x i y\n",
    "cov_matrix[0, 1] = (\n",
    "    (data[0, 0] - mean_x) * (data[0, 1] - mean_y) +\n",
    "    (data[1, 0] - mean_x) * (data[1, 1] - mean_y) +\n",
    "    (data[2, 0] - mean_x) * (data[2, 1] - mean_y) +\n",
    "    (data[3, 0] - mean_x) * (data[3, 1] - mean_y) ) / 3 \n",
    "\n",
    "cov_matrix[1, 0] = cov_matrix[0, 1]\n",
    "\n",
    "\n",
    "cov_matrix"
   ]
  },
  {
   "cell_type": "code",
   "execution_count": 16,
   "metadata": {},
   "outputs": [],
   "source": [
    "# 𝜆 = ?  \n",
    "\n",
    "# A_𝜆 = cov_matrix - 𝜆 * np.diag((2, 2)) \n",
    " \n",
    "# A_𝜆 = [[13/3,            13/3.         ],     [[𝜆, 0],   [[13/3 - 𝜆        ,       13/3        ],  \n",
    "#        [ 13/3.        ,  13/3.        ]]   -   [0, 𝜆]] =  [13/3               ,  13/3-𝜆        ]]  \n",
    "\n",
    "# det(A_𝜆) = (13/3 - 𝜆)**2 - (13/3)**2 = 169/9 - 26𝜆/3 + 𝜆**2 - 169/3 = -26𝜆/3 + 𝜆**2\n",
    "# -26𝜆/3 + 𝜆**2 = 𝜆(-26/3 + 𝜆)\n",
    "\n",
    "# 𝜆 = 0 v 𝜆 = 26/3  <- wartosci wlasne\n",
    "\n",
    "# 26/3 jest większe, więc będzie PC1\n",
    "\n",
    "# Dla 𝜆 = 26/3 rozwiązać i znaleźć niezerowy wektror x:\n",
    "# (cov_matrix - λI)x = 0\n",
    "\n",
    "# nadal nie zmienilem zdania "
   ]
  },
  {
   "attachments": {},
   "cell_type": "markdown",
   "metadata": {},
   "source": [
    "![]()"
   ]
  }
 ],
 "metadata": {
  "kernelspec": {
   "display_name": "bio",
   "language": "python",
   "name": "python3"
  },
  "language_info": {
   "codemirror_mode": {
    "name": "ipython",
    "version": 3
   },
   "file_extension": ".py",
   "mimetype": "text/x-python",
   "name": "python",
   "nbconvert_exporter": "python",
   "pygments_lexer": "ipython3",
   "version": "3.8.16"
  },
  "orig_nbformat": 4
 },
 "nbformat": 4,
 "nbformat_minor": 2
}
